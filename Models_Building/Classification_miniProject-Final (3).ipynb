{
 "cells": [
  {
   "cell_type": "code",
   "execution_count": 2,
   "metadata": {
    "scrolled": true
   },
   "outputs": [
    {
     "name": "stdout",
     "output_type": "stream",
     "text": [
      "X shape: (101757, 41)\n",
      "y shape: (101757,)\n"
     ]
    },
    {
     "data": {
      "text/plain": [
       "0.585167714884696"
      ]
     },
     "execution_count": 2,
     "metadata": {},
     "output_type": "execute_result"
    }
   ],
   "source": [
    "from imblearn.over_sampling import SMOTE\n",
    "\n",
    "import pandas as pd\n",
    "import numpy as np\n",
    "import seaborn as sns\n",
    "import matplotlib.pyplot as plt\n",
    "\n",
    "from sklearn.metrics import accuracy_score, confusion_matrix, r2_score\n",
    "from sklearn.preprocessing import MinMaxScaler\n",
    "from sklearn.tree import DecisionTreeClassifier, export_graphviz\n",
    "from sklearn.model_selection import train_test_split\n",
    "import graphviz \n",
    "from sklearn import tree\n",
    "from sklearn.ensemble import RandomForestClassifier,RandomForestRegressor,ExtraTreesClassifier,ExtraTreesRegressor\n",
    "from xgboost import XGBRegressor,XGBClassifier\n",
    "from sklearn.neighbors import KNeighborsClassifier,KNeighborsRegressor #KNN\n",
    "from sklearn.model_selection import train_test_split,cross_val_score,GridSearchCV,KFold\n",
    "from sklearn.metrics import confusion_matrix, accuracy_score,classification_report,mean_squared_error\n",
    "import matplotlib.pyplot as plt\n",
    "from sklearn.metrics import confusion_matrix, accuracy_score,classification_report,mean_squared_error\n",
    "from sklearn.tree import DecisionTreeClassifier,DecisionTreeRegressor,plot_tree,export_text\n",
    "import imblearn\n",
    "import os\n",
    "\n",
    "%matplotlib inline\n",
    "\n",
    "### Data Preprocessing\n",
    "\n",
    "# importing dataset\n",
    "dataset = pd.read_csv(\"..//Data//diabetic_data.csv\")\n",
    "\n",
    "# dropping unwanted columns\n",
    "dataset = dataset.drop(['encounter_id','patient_nbr','weight','payer_code','medical_specialty','diag_1','diag_2','diag_3'],axis=1)\n",
    "\n",
    "# dropping duplicate raws\n",
    "dataset.drop_duplicates(inplace=True)\n",
    "\n",
    "# replacing values\n",
    "dataset[\"race\"].replace({\"?\":\"Unknown\"}, inplace=True)\n",
    "\n",
    "# removing rows that contains 'Unknown/Invalid' for gender column\n",
    "dataset = dataset[dataset.gender != 'Unknown/Invalid']\n",
    "\n",
    "# data encoding\n",
    "\n",
    "dataset['race'] = dataset['race'].map({'Caucasian':0, 'AfricanAmerican':1, 'Asian':2, 'Hispanic':3, 'Other':4, 'Unknown':5})\n",
    "dataset['gender'] = dataset['gender'].map({'Male':1,'Female':0})\n",
    "dataset['age'] = dataset['age'].map({'[0-10)':1,'[10-20)':2, '[20-30)':3, '[30-40)':4, '[40-50)':5, '[50-60)':6, \n",
    "                                    '[60-70)':7, '[70-80)':8, '[80-90)':9, '[90-100)':10})\n",
    "\n",
    "\n",
    "# data encoding (col 16-38)\n",
    "\n",
    "for col in dataset.iloc[:,16:39]:\n",
    "    dataset[col] = dataset[col].map({'No':0, 'Steady':1, 'Up':2, 'Down':3})\n",
    "\n",
    "# data encoding\n",
    "dataset['change'] = dataset['change'].map({'No':0, 'Ch':1})\n",
    "dataset['diabetesMed'] = dataset['diabetesMed'].map({'No':0, 'Yes':1})\n",
    "dataset['readmitted'] = dataset['readmitted'].map({'NO':0, '>30':1, '<30':2})\n",
    "\n",
    "dataset['max_glu_serum'] = dataset['max_glu_serum'].map({'None':0, '>300':1, 'Norm':2, '>200':3})\n",
    "dataset['A1Cresult'] = dataset['A1Cresult'].map({'None':0, '>7':1, '>8':2, 'Norm':3})\n",
    "\n",
    "# Splitting\n",
    "\n",
    "# splitting data\n",
    "x = dataset.drop('readmitted', axis=1).values# Input features (attributes)\n",
    "y = dataset['readmitted'].values # Target vector\n",
    "print('X shape: {}'.format(np.shape(x)))\n",
    "print('y shape: {}'.format(np.shape(y)))\n",
    "\n",
    "x_train, x_test, y_train, y_test = train_test_split(x, y, test_size=0.3, random_state=42)\n",
    "\n",
    "# Random Forest\n",
    "\n",
    "# transform the dataset\n",
    "oversample = SMOTE()\n",
    "x, y = oversample.fit_resample(x, y)\n",
    "\n",
    "rfcl = RandomForestClassifier(n_estimators = 100, min_samples_split = 10,\n",
    "min_samples_leaf = 4, max_features = 'auto',\n",
    "max_depth = 70, bootstrap = True)\n",
    "\n",
    "rfcl.fit(x_train, y_train)\n",
    "prediction_test = rfcl.predict(x_test)\n",
    "\n",
    "y_pred=rfcl.predict(x_test)\n",
    "\n",
    "accuracy_score(y_test,y_pred)"
   ]
  },
  {
   "cell_type": "code",
   "execution_count": null,
   "metadata": {},
   "outputs": [],
   "source": []
  }
 ],
 "metadata": {
  "kernelspec": {
   "display_name": "Python 3",
   "language": "python",
   "name": "python3"
  },
  "language_info": {
   "codemirror_mode": {
    "name": "ipython",
    "version": 3
   },
   "file_extension": ".py",
   "mimetype": "text/x-python",
   "name": "python",
   "nbconvert_exporter": "python",
   "pygments_lexer": "ipython3",
   "version": "3.8.5"
  }
 },
 "nbformat": 4,
 "nbformat_minor": 4
}
